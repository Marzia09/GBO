{
  "nbformat": 4,
  "nbformat_minor": 0,
  "metadata": {
    "colab": {
      "provenance": []
    },
    "kernelspec": {
      "name": "python3",
      "display_name": "Python 3"
    },
    "language_info": {
      "name": "python"
    }
  },
  "cells": [
    {
      "cell_type": "markdown",
      "source": [
        "Step 1: Implementation of Gooseneck Barnacle Optimization (GBO)"
      ],
      "metadata": {
        "id": "qZwPAYQxNZwv"
      }
    },
    {
      "cell_type": "code",
      "execution_count": null,
      "metadata": {
        "id": "YFvca-emNYSz"
      },
      "outputs": [],
      "source": [
        "import numpy as np\n",
        "from math import gamma, sin, pi\n",
        "\n",
        "# Objective function (Example: Sphere function)\n",
        "def objective_function(x):\n",
        "    return np.sum(x**2)\n",
        "\n",
        "# Initialization of GBO\n",
        "def initialize_population(pop_size, dimensions, lb, ub):\n",
        "    population = lb + (ub - lb) * np.random.rand(pop_size, dimensions)\n",
        "    return population\n",
        "\n",
        "# Levy Flight function\n",
        "def levy_flight(beta, dimensions):\n",
        "    sigma = (gamma(1 + beta) * sin(pi * beta / 2) /\n",
        "             (gamma((1 + beta) / 2) * beta * 2 ** ((beta - 1) / 2))) ** (1 / beta)\n",
        "    u = np.random.randn(dimensions) * sigma\n",
        "    v = np.random.randn(dimensions)\n",
        "    step = u / np.abs(v) ** (1 / beta)\n",
        "    return step\n",
        "\n",
        "# Gooseneck Barnacle Optimization (GBO) Algorithm\n",
        "def GBO(objective, pop_size, dimensions, lb, ub, max_iter):\n",
        "    # Initialize Gooseneck Barnacle positions\n",
        "    population = initialize_population(pop_size, dimensions, lb, ub)\n",
        "    fitness = np.array([objective(ind) for ind in population])\n",
        "    global_best = population[np.argmin(fitness)]\n",
        "    global_best_fitness = np.min(fitness)\n",
        "\n",
        "    for iter in range(max_iter):\n",
        "        # Update significant wave height (Hs)\n",
        "        Hs = 1.5 - iter * ((1.5 - 0.2) / max_iter)\n",
        "\n",
        "        for i in range(pop_size):\n",
        "            # Calculate distance (logarithmic spiral)\n",
        "            Di = population[i] - global_best\n",
        "            b = 0.5  # constant shape of spiral\n",
        "            t = np.random.uniform(-1, 1)\n",
        "            spiral = Di * np.exp(b * t) * np.cos(2 * np.pi * t) + global_best\n",
        "\n",
        "            # Movement vectors calculation (Eq. 6 and Eq. 7 from your paper)\n",
        "            WD = np.random.uniform(0, 2 * np.pi)\n",
        "            Tdim = global_best\n",
        "            delta_X = WD + Tdim + Hs * (population[i] - spiral)\n",
        "            new_position = population[i] + delta_X\n",
        "\n",
        "            # Boundary checking\n",
        "            new_position = np.clip(new_position, lb, ub)\n",
        "\n",
        "            # Evaluate fitness of new position\n",
        "            new_fitness = objective(new_position)\n",
        "\n",
        "            # Update positions\n",
        "            if new_fitness < fitness[i]:\n",
        "                population[i] = new_position\n",
        "                fitness[i] = new_fitness\n",
        "\n",
        "        # Levy flight condition (Eq. 8 from your paper)\n",
        "        if np.random.rand() < 0.5:\n",
        "            for i in range(pop_size):\n",
        "                step = levy_flight(1.5, dimensions)\n",
        "                levy_position = population[i] + step * population[i]\n",
        "                levy_position = np.clip(levy_position, lb, ub)\n",
        "                levy_fitness = objective(levy_position)\n",
        "\n",
        "                if levy_fitness < fitness[i]:\n",
        "                    population[i] = levy_position\n",
        "                    fitness[i] = levy_fitness\n",
        "\n",
        "        # Update global best\n",
        "        current_best = np.min(fitness)\n",
        "        if current_best < global_best_fitness:\n",
        "            global_best_fitness = current_best\n",
        "            global_best = population[np.argmin(fitness)]\n",
        "\n",
        "        # Optional: Display iteration progress\n",
        "        print(f'Iteration {iter+1}/{max_iter}, Best Fitness: {global_best_fitness}')\n",
        "\n",
        "    return global_best, global_best_fitness\n",
        "\n",
        "\n"
      ]
    },
    {
      "cell_type": "code",
      "source": [
        "# Define  X_train, y_train, X_test, y_test\n",
        "\n",
        "def fitness_nn(solution):\n",
        "    n1, n2, lr = int(solution[0]), int(solution[1]), solution[2]\n",
        "    model = Sequential([\n",
        "        Dense(n1, input_dim=X_train.shape[1], activation='relu'),\n",
        "        Dense(n2, activation='relu'),\n",
        "        Dense(1, activation='linear')\n",
        "    ])\n",
        "    model.compile(optimizer=Adam(learning_rate=lr), loss='mse')\n",
        "    model.fit(X_train, y_train, epochs=100, batch_size=16, verbose=0)\n",
        "    pred = model.predict(X_test)\n",
        "    mse = mean_squared_error(y_test, pred)\n",
        "    return mse\n"
      ],
      "metadata": {
        "id": "amQFXAakXJhj"
      },
      "execution_count": null,
      "outputs": []
    }
  ]
}