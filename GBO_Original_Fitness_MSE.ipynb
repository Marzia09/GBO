    {
      "cell_type": "code",
      "source": [
        "# Define  X_train, y_train, X_test, y_test\n",
        "\n",
        "def fitness_nn(solution):\n",
        "    n1, n2, lr = int(solution[0]), int(solution[1]), solution[2]\n",
        "    model = Sequential([\n",
        "        Dense(n1, input_dim=X_train.shape[1], activation='relu'),\n",
        "        Dense(n2, activation='relu'),\n",
        "        Dense(1, activation='linear')\n",
        "    ])\n",
        "    model.compile(optimizer=Adam(learning_rate=lr), loss='mse')\n",
        "    model.fit(X_train, y_train, epochs=100, batch_size=16, verbose=0)\n",
        "    pred = model.predict(X_test)\n",
        "    mse = mean_squared_error(y_test, pred)\n",
        "    return mse\n"
      ],
      "metadata": {
        "id": "amQFXAakXJhj"
      },
      "execution_count": null,
      "outputs": []
    }
  ]
}
